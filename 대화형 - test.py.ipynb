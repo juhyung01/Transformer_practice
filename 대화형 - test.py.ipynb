{
 "cells": [
  {
   "cell_type": "markdown",
   "metadata": {},
   "source": [
    "Python 3.11.2에 연결됨"
   ]
  },
  {
   "cell_type": "code",
   "execution_count": null,
   "id": "e06aacbd-69e7-448f-ab03-489b8e157782",
   "metadata": {},
   "outputs": [],
   "source": [
    "import math\n",
    "import torch\n",
    "\n",
    "from torch import nn, optim\n",
    "from torch.optim import Adam\n",
    "\n",
    "#from data import *\n",
    "from models.model.transformer import Transformer\n",
    "\n",
    "model = Transformer(src_pad_idx=2,\n",
    "                    trg_pad_idx=2,\n",
    "                    trg_sos_idx=3,\n",
    "                    d_model=512,\n",
    "                    enc_voc_size=30,\n",
    "                    dec_voc_size=30,\n",
    "                    max_len=30,\n",
    "                    ffn_hidden=2048,\n",
    "                    n_head=8,\n",
    "                    n_layers=6,\n",
    "                    drop_prob=0.1,\n",
    "                    device='cpu')"
   ]
  },
  {
   "cell_type": "code",
   "execution_count": null,
   "metadata": {},
   "outputs": [
    {
     "name": "stderr",
     "output_type": "stream",
     "text": [
      "c:\\Users\\심주형\\AppData\\Local\\Programs\\Python\\Python311\\Lib\\site-packages\\torch\\nn\\modules\\module.py:1553: UserWarning: Implicit dimension choice for softmax has been deprecated. Change the call to include dim=X as an argument.\n",
      "  return self._call_impl(*args, **kwargs)\n"
     ]
    },
    {
     "data": {
      "text/plain": [
       "tensor([[[0.1644, 0.3588, 0.4473,  ..., 0.2431, 0.2376, 0.2536],\n",
       "         [0.2407, 0.2834, 0.0683,  ..., 0.2081, 0.1611, 0.1578],\n",
       "         [0.2661, 0.2572, 0.1236,  ..., 0.2487, 0.3339, 0.1464],\n",
       "         ...,\n",
       "         [0.1750, 0.1232, 0.3479,  ..., 0.3676, 0.3534, 0.2207],\n",
       "         [0.1792, 0.0846, 0.5045,  ..., 0.2537, 0.5252, 0.2171],\n",
       "         [0.1866, 0.2414, 0.3400,  ..., 0.2787, 0.1984, 0.3591]],\n",
       "\n",
       "        [[0.2841, 0.1367, 0.1215,  ..., 0.1660, 0.3420, 0.1214],\n",
       "         [0.2644, 0.1861, 0.2462,  ..., 0.1459, 0.1823, 0.1973],\n",
       "         [0.2890, 0.2271, 0.1729,  ..., 0.4082, 0.1446, 0.2342],\n",
       "         ...,\n",
       "         [0.2359, 0.5262, 0.1240,  ..., 0.2245, 0.1342, 0.1688],\n",
       "         [0.2960, 0.2206, 0.2868,  ..., 0.2687, 0.2292, 0.1257],\n",
       "         [0.3886, 0.2829, 0.1450,  ..., 0.2444, 0.2040, 0.2041]],\n",
       "\n",
       "        [[0.2646, 0.1697, 0.3165,  ..., 0.3699, 0.2329, 0.2045],\n",
       "         [0.1530, 0.0746, 0.6156,  ..., 0.2517, 0.4873, 0.1748],\n",
       "         [0.2510, 0.4580, 0.0949,  ..., 0.1927, 0.0962, 0.3442],\n",
       "         ...,\n",
       "         [0.3571, 0.2441, 0.2904,  ..., 0.2772, 0.2179, 0.4058],\n",
       "         [0.2744, 0.2851, 0.1554,  ..., 0.3286, 0.1222, 0.3307],\n",
       "         [0.2311, 0.2728, 0.2855,  ..., 0.2996, 0.2200, 0.2368]],\n",
       "\n",
       "        [[0.2869, 0.3349, 0.1147,  ..., 0.2210, 0.1875, 0.4204],\n",
       "         [0.3419, 0.4559, 0.0699,  ..., 0.3943, 0.1693, 0.4701],\n",
       "         [0.1938, 0.0576, 0.6086,  ..., 0.1503, 0.4253, 0.2752],\n",
       "         ...,\n",
       "         [0.2320, 0.1064, 0.2377,  ..., 0.1307, 0.2946, 0.2046],\n",
       "         [0.2504, 0.4097, 0.0533,  ..., 0.1490, 0.1234, 0.3265],\n",
       "         [0.1937, 0.2028, 0.2296,  ..., 0.1773, 0.3777, 0.2001]]],\n",
       "       grad_fn=<SoftmaxBackward0>)"
      ]
     },
     "execution_count": 2,
     "metadata": {},
     "output_type": "execute_result"
    }
   ],
   "source": [
    "src=torch.randint(0,10, (4,30))\n",
    "trg=torch.randint(0,10, (4,30))\n",
    "model(src, trg)"
   ]
  },
  {
   "cell_type": "markdown",
   "metadata": {},
   "source": [
    "연결된 커널 없음"
   ]
  }
 ],
 "metadata": {
  "kernelspec": {
   "display_name": "Python 3",
   "language": "python",
   "name": "python3"
  },
  "language_info": {
   "codemirror_mode": {
    "name": "ipython",
    "version": 3
   },
   "file_extension": ".py",
   "mimetype": "text/x-python",
   "name": "python",
   "nbconvert_exporter": "python",
   "pygments_lexer": "ipython3",
   "version": "3.11.2"
  }
 },
 "nbformat": 4,
 "nbformat_minor": 2
}
